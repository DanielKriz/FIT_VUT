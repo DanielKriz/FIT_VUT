{
  "nbformat": 4,
  "nbformat_minor": 0,
  "metadata": {
    "colab": {
      "name": "KNN_more_layers.ipynb",
      "provenance": [],
      "machine_shape": "hm"
    },
    "kernelspec": {
      "name": "python3",
      "display_name": "Python 3"
    },
    "accelerator": "GPU"
  },
  "cells": [
    {
      "cell_type": "markdown",
      "metadata": {
        "id": "_TwylZeyBrrA",
        "colab_type": "text"
      },
      "source": [
        "\n",
        "IMPORTS:"
      ]
    },
    {
      "cell_type": "code",
      "metadata": {
        "id": "FkIURPrSABP-",
        "colab_type": "code",
        "outputId": "f7bebdc8-754b-4b09-8c0e-00229029277a",
        "colab": {
          "base_uri": "https://localhost:8080/",
          "height": 139
        }
      },
      "source": [
        "import pickle\n",
        "import os\n",
        "from os import path\n",
        "\n",
        "import matplotlib.pyplot as plt\n",
        "\n",
        "import numpy as np\n",
        "\n",
        "import sys\n",
        "import torch\n",
        "\n",
        "import tensorflow as tf\n",
        "from tensorflow.keras import datasets, layers, models\n",
        "import matplotlib.pyplot as plt\n",
        "\n",
        "from google.colab import drive\n",
        "drive.mount('/content/drive', force_remount=True)\n",
        "\n",
        "import cv2\n",
        "import csv\n",
        "import matplotlib.pyplot as plt\n",
        "import matplotlib.image as mpimg\n",
        "from keras.models import Model\n",
        "from PIL import Image\n",
        "import string\n",
        "from keras.callbacks import ModelCheckpoint"
      ],
      "execution_count": 1,
      "outputs": [
        {
          "output_type": "stream",
          "text": [
            "Go to this URL in a browser: https://accounts.google.com/o/oauth2/auth?client_id=947318989803-6bn6qk8qdgf4n4g3pfee6491hc0brc4i.apps.googleusercontent.com&redirect_uri=urn%3aietf%3awg%3aoauth%3a2.0%3aoob&response_type=code&scope=email%20https%3a%2f%2fwww.googleapis.com%2fauth%2fdocs.test%20https%3a%2f%2fwww.googleapis.com%2fauth%2fdrive%20https%3a%2f%2fwww.googleapis.com%2fauth%2fdrive.photos.readonly%20https%3a%2f%2fwww.googleapis.com%2fauth%2fpeopleapi.readonly\n",
            "\n",
            "Enter your authorization code:\n",
            "··········\n",
            "Mounted at /content/drive\n"
          ],
          "name": "stdout"
        },
        {
          "output_type": "stream",
          "text": [
            "Using TensorFlow backend.\n"
          ],
          "name": "stderr"
        }
      ]
    },
    {
      "cell_type": "markdown",
      "metadata": {
        "id": "hy0_g-_J6wbW",
        "colab_type": "text"
      },
      "source": [
        "Download data from drive to speed things up"
      ]
    },
    {
      "cell_type": "code",
      "metadata": {
        "id": "iMyxEi1H6y2i",
        "colab_type": "code",
        "colab": {}
      },
      "source": [
        "zip_path = '/content/drive/My Drive/KNN/2017-IWT4S-CarsReId_LP-dataset.zip'\n",
        "!cp \"{zip_path}\" .\n",
        "!unzip -q '2017-IWT4S-CarsReId_LP-dataset.zip'"
      ],
      "execution_count": 0,
      "outputs": []
    },
    {
      "cell_type": "markdown",
      "metadata": {
        "id": "5Ibqka0jQ4zg",
        "colab_type": "text"
      },
      "source": [
        "Parse csv and load train/test data"
      ]
    },
    {
      "cell_type": "code",
      "metadata": {
        "id": "0FnBlVqBRFA0",
        "colab_type": "code",
        "outputId": "64f37c7f-b80b-4dab-8f4a-4feba9d2f22a",
        "colab": {
          "base_uri": "https://localhost:8080/",
          "height": 153
        }
      },
      "source": [
        "train_images = []\n",
        "train_labels = []\n",
        "test_images  = []\n",
        "test_labels  = []\n",
        "\n",
        "with open('trainVal.csv', 'r') as csv_file:\n",
        "    csv_reader = csv.reader(csv_file, delimiter=',')\n",
        "    line_count = 0\n",
        "    for row in csv_reader:\n",
        "        if line_count == 0:\n",
        "            # Skip header row\n",
        "            line_count += 1\n",
        "        else:\n",
        "            if int(row[3]) == 0:\n",
        "                if(len(row[2]) != 7):\n",
        "                    continue\n",
        "                img = cv2.imread(row[1])\n",
        "                if img is None:\n",
        "                    continue\n",
        "                img = cv2.cvtColor(img, cv2.COLOR_RGB2BGR)\n",
        "                res = cv2.resize(img, dsize=(200, 40), interpolation=cv2.INTER_CUBIC)\n",
        "                normalizedImg = np.zeros((200, 40))\n",
        "                normalizedImg = cv2.normalize(res,  normalizedImg, 0, 255, cv2.NORM_MINMAX)\n",
        "                test_labels.append([row[2]])\n",
        "                test_images.append(normalizedImg)\n",
        "            else:\n",
        "                if(len(row[2]) != 7):\n",
        "                    continue\n",
        "                img = cv2.imread(row[1])\n",
        "                if img is None:\n",
        "                    continue\n",
        "                img = cv2.cvtColor(img, cv2.COLOR_RGB2BGR)\n",
        "                res = cv2.resize(img, dsize=(200, 40), interpolation=cv2.INTER_CUBIC)\n",
        "                normalizedImg = np.zeros((200, 40))\n",
        "                normalizedImg = cv2.normalize(res,  normalizedImg, 0, 255, cv2.NORM_MINMAX)\n",
        "                train_labels.append([row[2]])\n",
        "                train_images.append(normalizedImg)\n",
        "\n",
        "train_images = np.asarray(train_images)\n",
        "train_labels = np.asarray(train_labels)\n",
        "\n",
        "img_train_part = train_images[:int(len(train_images) * .8)]\n",
        "labels_train_part = train_labels[:int(len(train_labels) * .8)]\n",
        "img_val_part = train_images[int(len(train_images) * .8):]\n",
        "labels_val_part = train_labels[int(len(train_labels) * .8):]\n",
        "\n",
        "# Debug\n",
        "print(train_images.shape)\n",
        "print(train_labels.shape)\n",
        "print('')\n",
        "print(img_train_part.shape)\n",
        "print(labels_train_part.shape)\n",
        "print('')\n",
        "print(img_val_part.shape)\n",
        "print(labels_val_part.shape)"
      ],
      "execution_count": 3,
      "outputs": [
        {
          "output_type": "stream",
          "text": [
            "(105410, 40, 200, 3)\n",
            "(105410, 1)\n",
            "\n",
            "(84328, 40, 200, 3)\n",
            "(84328, 1)\n",
            "\n",
            "(21082, 40, 200, 3)\n",
            "(21082, 1)\n"
          ],
          "name": "stdout"
        }
      ]
    },
    {
      "cell_type": "markdown",
      "metadata": {
        "id": "GAUeU3L0HySL",
        "colab_type": "text"
      },
      "source": [
        "Convert to 'loss function friendly' format"
      ]
    },
    {
      "cell_type": "code",
      "metadata": {
        "id": "vdsKDwraH0br",
        "colab_type": "code",
        "outputId": "0af5dd46-1500-4f33-d675-94caba66c900",
        "colab": {
          "base_uri": "https://localhost:8080/",
          "height": 85
        }
      },
      "source": [
        "# Create dict to encode digits to numbers\n",
        "y_map = {}\n",
        "for i,d in enumerate(string.digits+string.ascii_uppercase + '#'):\n",
        "    y_map[d] = i\n",
        "\n",
        "# Utility function for split string in char and encode them\n",
        "def split_encode(x):\n",
        "    x = list(x[0])\n",
        "    x = [y_map[d] for d in x]\n",
        "    return x\n",
        "\n",
        "# Transform target\n",
        "train_labels = np.apply_along_axis(split_encode, 1, labels_train_part)\n",
        "val_labels = np.apply_along_axis(split_encode, 1, labels_val_part)\n",
        "\n",
        "# Debug\n",
        "print(img_train_part.shape)\n",
        "print(train_labels.shape)\n",
        "print(img_val_part.shape)\n",
        "print(val_labels.shape)"
      ],
      "execution_count": 4,
      "outputs": [
        {
          "output_type": "stream",
          "text": [
            "(84328, 40, 200, 3)\n",
            "(84328, 7)\n",
            "(21082, 40, 200, 3)\n",
            "(21082, 7)\n"
          ],
          "name": "stdout"
        }
      ]
    },
    {
      "cell_type": "markdown",
      "metadata": {
        "id": "2AcCdUk2saUI",
        "colab_type": "text"
      },
      "source": [
        "Class names A-Z, 0-9"
      ]
    },
    {
      "cell_type": "code",
      "metadata": {
        "id": "LC95FfS1sboR",
        "colab_type": "code",
        "outputId": "dcddfca1-d153-4e1c-81b6-3b708bc0e4ee",
        "colab": {
          "base_uri": "https://localhost:8080/",
          "height": 51
        }
      },
      "source": [
        "chars  = [chr(i) for i in list(range(ord('A'),ord('Z')+1))]\n",
        "digits = ['0', '1', '2', '3', '4', '5', '6', '7', '8', '9']\n",
        "\n",
        "class_names = digits + chars\n",
        "\n",
        "print(class_names)\n",
        "print(len(class_names))"
      ],
      "execution_count": 5,
      "outputs": [
        {
          "output_type": "stream",
          "text": [
            "['0', '1', '2', '3', '4', '5', '6', '7', '8', '9', 'A', 'B', 'C', 'D', 'E', 'F', 'G', 'H', 'I', 'J', 'K', 'L', 'M', 'N', 'O', 'P', 'Q', 'R', 'S', 'T', 'U', 'V', 'W', 'X', 'Y', 'Z']\n",
            "36\n"
          ],
          "name": "stdout"
        }
      ]
    },
    {
      "cell_type": "markdown",
      "metadata": {
        "id": "sjKUDJckeS_q",
        "colab_type": "text"
      },
      "source": [
        "Check few images"
      ]
    },
    {
      "cell_type": "code",
      "metadata": {
        "id": "MuPrScWteVeC",
        "colab_type": "code",
        "outputId": "0bd2789b-36de-4be0-8930-62d84aef7fe3",
        "colab": {
          "base_uri": "https://localhost:8080/",
          "height": 211
        }
      },
      "source": [
        "plt.figure(figsize=(10,10))\n",
        "for i in range(10):\n",
        "    plt.subplot(5,5,i+1)\n",
        "    plt.xticks([])\n",
        "    plt.yticks([])\n",
        "    plt.grid(False)\n",
        "    plt.imshow(train_images[i], cmap=plt.cm.binary)\n",
        "    plt.xlabel(train_labels[i])\n",
        "plt.show()"
      ],
      "execution_count": 14,
      "outputs": [
        {
          "output_type": "stream",
          "text": [
            "/usr/local/lib/python3.6/dist-packages/matplotlib/text.py:1165: FutureWarning: elementwise comparison failed; returning scalar instead, but in the future will perform elementwise comparison\n",
            "  if s != self._text:\n"
          ],
          "name": "stderr"
        },
        {
          "output_type": "display_data",
          "data": {
            "image/png": "[encoded data removed]",
            "text/plain": [
              "<Figure size 720x720 with 10 Axes>"
            ]
          },
          "metadata": {
            "tags": []
          }
        }
      ]
    },
    {
      "cell_type": "markdown",
      "metadata": {
        "id": "ZbHx4V7Ush5L",
        "colab_type": "text"
      },
      "source": [
        "Create model"
      ]
    },
    {
      "cell_type": "code",
      "metadata": {
        "id": "tC6NPbAAsjbA",
        "colab_type": "code",
        "outputId": "de20bba8-8d05-47ba-e234-6e519f30c807",
        "colab": {
          "base_uri": "https://localhost:8080/",
          "height": 1000
        }
      },
      "source": [
        "# 32,64,128 - filters count\n",
        "# (x, x) is size of convolutional kernel\n",
        "# relu is activation function\n",
        "# batch normalization after each convolutional layer\n",
        "\n",
        "from keras.layers import *\n",
        "\n",
        "inp_dim = (40, 200, 3)\n",
        "x_inp = Input(shape=inp_dim)\n",
        "\n",
        "# First part\n",
        "x = Conv2D(32, (3, 3), padding='same', use_bias=True, bias_initializer='zeros', bias_regularizer=None, bias_constraint=None)(x_inp)\n",
        "x = BatchNormalization()(x)\n",
        "x = Activation(\"relu\")(x)\n",
        "x = Conv2D(32, (3, 3), padding='same', use_bias=True, bias_initializer='zeros', bias_regularizer=None, bias_constraint=None)(x)\n",
        "x = BatchNormalization()(x)\n",
        "x = Activation(\"relu\")(x)\n",
        "x = Conv2D(32, (3, 3), padding='same', use_bias=True, bias_initializer='zeros', bias_regularizer=None, bias_constraint=None)(x)\n",
        "x = BatchNormalization()(x)\n",
        "x = Activation(\"relu\")(x)\n",
        "x = MaxPooling2D((2, 2))(x)\n",
        "\n",
        "# Second part\n",
        "x = Conv2D(64, (3, 3), padding='same', use_bias=True, bias_initializer='zeros', bias_regularizer=None, bias_constraint=None)(x)\n",
        "x = BatchNormalization()(x)\n",
        "x = Activation(\"relu\")(x)\n",
        "x = Conv2D(64, (3, 3), padding='same', use_bias=True, bias_initializer='zeros', bias_regularizer=None, bias_constraint=None)(x)\n",
        "x = BatchNormalization()(x)\n",
        "x = Activation(\"relu\")(x)\n",
        "x = Conv2D(64, (3, 3), padding='same', use_bias=True, bias_initializer='zeros', bias_regularizer=None, bias_constraint=None)(x)\n",
        "x = BatchNormalization()(x)\n",
        "x = Activation(\"relu\")(x)\n",
        "x = MaxPooling2D((2, 2))(x)\n",
        "\n",
        "# Third part\n",
        "x = Conv2D(128, (3, 3), padding='same', use_bias=True, bias_initializer='zeros', bias_regularizer=None, bias_constraint=None)(x)\n",
        "x = BatchNormalization()(x)\n",
        "x = Activation(\"relu\")(x)\n",
        "x = Conv2D(128, (3, 3), padding='same', use_bias=True, bias_initializer='zeros', bias_regularizer=None, bias_constraint=None)(x)\n",
        "x = BatchNormalization()(x)\n",
        "x = Activation(\"relu\")(x)\n",
        "x = Conv2D(128, (3, 3), padding='same', use_bias=True, bias_initializer='zeros', bias_regularizer=None, bias_constraint=None)(x)\n",
        "x = BatchNormalization()(x)\n",
        "x = Activation(\"relu\")(x)\n",
        "x = MaxPooling2D((2, 2))(x)\n",
        "\n",
        "\n",
        "x_out = Flatten()(x)\n",
        "model = Model(x_inp, x_out)\n",
        "\n",
        "branches = []\n",
        "\n",
        "for _ in range(7):\n",
        "    x = Dense(128)(x_out)\n",
        "    x = Dense(36)(x)\n",
        "    x = Activation(\"softmax\")(x)\n",
        "    branches.append(x)\n",
        "\n",
        "final_model = Model(inputs = x_inp, outputs = branches)\n",
        "\n",
        "# Display model architecture\n",
        "final_model.summary()\n",
        "\n",
        "model_json = final_model.to_json()\n",
        "with open(\"/content/drive/My Drive/KNN/bias_model.json\", \"w\") as json_file:\n",
        "    json_file.write(model_json)"
      ],
      "execution_count": 16,
      "outputs": [
        {
          "output_type": "stream",
          "text": [
            "Model: \"model_12\"\n",
            "__________________________________________________________________________________________________\n",
            "Layer (type)                    Output Shape         Param #     Connected to                     \n",
            "==================================================================================================\n",
            "input_6 (InputLayer)            (None, 40, 200, 3)   0                                            \n",
            "__________________________________________________________________________________________________\n",
            "conv2d_46 (Conv2D)              (None, 40, 200, 32)  896         input_6[0][0]                    \n",
            "__________________________________________________________________________________________________\n",
            "batch_normalization_46 (BatchNo (None, 40, 200, 32)  128         conv2d_46[0][0]                  \n",
            "__________________________________________________________________________________________________\n",
            "activation_81 (Activation)      (None, 40, 200, 32)  0           batch_normalization_46[0][0]     \n",
            "__________________________________________________________________________________________________\n",
            "conv2d_47 (Conv2D)              (None, 40, 200, 32)  9248        activation_81[0][0]              \n",
            "__________________________________________________________________________________________________\n",
            "batch_normalization_47 (BatchNo (None, 40, 200, 32)  128         conv2d_47[0][0]                  \n",
            "__________________________________________________________________________________________________\n",
            "activation_82 (Activation)      (None, 40, 200, 32)  0           batch_normalization_47[0][0]     \n",
            "__________________________________________________________________________________________________\n",
            "conv2d_48 (Conv2D)              (None, 40, 200, 32)  9248        activation_82[0][0]              \n",
            "__________________________________________________________________________________________________\n",
            "batch_normalization_48 (BatchNo (None, 40, 200, 32)  128         conv2d_48[0][0]                  \n",
            "__________________________________________________________________________________________________\n",
            "activation_83 (Activation)      (None, 40, 200, 32)  0           batch_normalization_48[0][0]     \n",
            "__________________________________________________________________________________________________\n",
            "max_pooling2d_16 (MaxPooling2D) (None, 20, 100, 32)  0           activation_83[0][0]              \n",
            "__________________________________________________________________________________________________\n",
            "conv2d_49 (Conv2D)              (None, 20, 100, 64)  18496       max_pooling2d_16[0][0]           \n",
            "__________________________________________________________________________________________________\n",
            "batch_normalization_49 (BatchNo (None, 20, 100, 64)  256         conv2d_49[0][0]                  \n",
            "__________________________________________________________________________________________________\n",
            "activation_84 (Activation)      (None, 20, 100, 64)  0           batch_normalization_49[0][0]     \n",
            "__________________________________________________________________________________________________\n",
            "conv2d_50 (Conv2D)              (None, 20, 100, 64)  36928       activation_84[0][0]              \n",
            "__________________________________________________________________________________________________\n",
            "batch_normalization_50 (BatchNo (None, 20, 100, 64)  256         conv2d_50[0][0]                  \n",
            "__________________________________________________________________________________________________\n",
            "activation_85 (Activation)      (None, 20, 100, 64)  0           batch_normalization_50[0][0]     \n",
            "__________________________________________________________________________________________________\n",
            "conv2d_51 (Conv2D)              (None, 20, 100, 64)  36928       activation_85[0][0]              \n",
            "__________________________________________________________________________________________________\n",
            "batch_normalization_51 (BatchNo (None, 20, 100, 64)  256         conv2d_51[0][0]                  \n",
            "__________________________________________________________________________________________________\n",
            "activation_86 (Activation)      (None, 20, 100, 64)  0           batch_normalization_51[0][0]     \n",
            "__________________________________________________________________________________________________\n",
            "max_pooling2d_17 (MaxPooling2D) (None, 10, 50, 64)   0           activation_86[0][0]              \n",
            "__________________________________________________________________________________________________\n",
            "conv2d_52 (Conv2D)              (None, 10, 50, 128)  73856       max_pooling2d_17[0][0]           \n",
            "__________________________________________________________________________________________________\n",
            "batch_normalization_52 (BatchNo (None, 10, 50, 128)  512         conv2d_52[0][0]                  \n",
            "__________________________________________________________________________________________________\n",
            "activation_87 (Activation)      (None, 10, 50, 128)  0           batch_normalization_52[0][0]     \n",
            "__________________________________________________________________________________________________\n",
            "conv2d_53 (Conv2D)              (None, 10, 50, 128)  147584      activation_87[0][0]              \n",
            "__________________________________________________________________________________________________\n",
            "batch_normalization_53 (BatchNo (None, 10, 50, 128)  512         conv2d_53[0][0]                  \n",
            "__________________________________________________________________________________________________\n",
            "activation_88 (Activation)      (None, 10, 50, 128)  0           batch_normalization_53[0][0]     \n",
            "__________________________________________________________________________________________________\n",
            "conv2d_54 (Conv2D)              (None, 10, 50, 128)  147584      activation_88[0][0]              \n",
            "__________________________________________________________________________________________________\n",
            "batch_normalization_54 (BatchNo (None, 10, 50, 128)  512         conv2d_54[0][0]                  \n",
            "__________________________________________________________________________________________________\n",
            "activation_89 (Activation)      (None, 10, 50, 128)  0           batch_normalization_54[0][0]     \n",
            "__________________________________________________________________________________________________\n",
            "max_pooling2d_18 (MaxPooling2D) (None, 5, 25, 128)   0           activation_89[0][0]              \n",
            "__________________________________________________________________________________________________\n",
            "flatten_6 (Flatten)             (None, 16000)        0           max_pooling2d_18[0][0]           \n",
            "__________________________________________________________________________________________________\n",
            "dense_71 (Dense)                (None, 128)          2048128     flatten_6[0][0]                  \n",
            "__________________________________________________________________________________________________\n",
            "dense_73 (Dense)                (None, 128)          2048128     flatten_6[0][0]                  \n",
            "__________________________________________________________________________________________________\n",
            "dense_75 (Dense)                (None, 128)          2048128     flatten_6[0][0]                  \n",
            "__________________________________________________________________________________________________\n",
            "dense_77 (Dense)                (None, 128)          2048128     flatten_6[0][0]                  \n",
            "__________________________________________________________________________________________________\n",
            "dense_79 (Dense)                (None, 128)          2048128     flatten_6[0][0]                  \n",
            "__________________________________________________________________________________________________\n",
            "dense_81 (Dense)                (None, 128)          2048128     flatten_6[0][0]                  \n",
            "__________________________________________________________________________________________________\n",
            "dense_83 (Dense)                (None, 128)          2048128     flatten_6[0][0]                  \n",
            "__________________________________________________________________________________________________\n",
            "dense_72 (Dense)                (None, 36)           4644        dense_71[0][0]                   \n",
            "__________________________________________________________________________________________________\n",
            "dense_74 (Dense)                (None, 36)           4644        dense_73[0][0]                   \n",
            "__________________________________________________________________________________________________\n",
            "dense_76 (Dense)                (None, 36)           4644        dense_75[0][0]                   \n",
            "__________________________________________________________________________________________________\n",
            "dense_78 (Dense)                (None, 36)           4644        dense_77[0][0]                   \n",
            "__________________________________________________________________________________________________\n",
            "dense_80 (Dense)                (None, 36)           4644        dense_79[0][0]                   \n",
            "__________________________________________________________________________________________________\n",
            "dense_82 (Dense)                (None, 36)           4644        dense_81[0][0]                   \n",
            "__________________________________________________________________________________________________\n",
            "dense_84 (Dense)                (None, 36)           4644        dense_83[0][0]                   \n",
            "__________________________________________________________________________________________________\n",
            "activation_90 (Activation)      (None, 36)           0           dense_72[0][0]                   \n",
            "__________________________________________________________________________________________________\n",
            "activation_91 (Activation)      (None, 36)           0           dense_74[0][0]                   \n",
            "__________________________________________________________________________________________________\n",
            "activation_92 (Activation)      (None, 36)           0           dense_76[0][0]                   \n",
            "__________________________________________________________________________________________________\n",
            "activation_93 (Activation)      (None, 36)           0           dense_78[0][0]                   \n",
            "__________________________________________________________________________________________________\n",
            "activation_94 (Activation)      (None, 36)           0           dense_80[0][0]                   \n",
            "__________________________________________________________________________________________________\n",
            "activation_95 (Activation)      (None, 36)           0           dense_82[0][0]                   \n",
            "__________________________________________________________________________________________________\n",
            "activation_96 (Activation)      (None, 36)           0           dense_84[0][0]                   \n",
            "==================================================================================================\n",
            "Total params: 14,852,860\n",
            "Trainable params: 14,851,516\n",
            "Non-trainable params: 1,344\n",
            "__________________________________________________________________________________________________\n"
          ],
          "name": "stdout"
        }
      ]
    },
    {
      "cell_type": "markdown",
      "metadata": {
        "id": "Pil7CahExHSI",
        "colab_type": "text"
      },
      "source": [
        "Compile and train the model"
      ]
    },
    {
      "cell_type": "code",
      "metadata": {
        "id": "WpJjsM-wxIHt",
        "colab_type": "code",
        "outputId": "c48987ae-f140-4f29-df59-7c30d8c76e83",
        "colab": {
          "base_uri": "https://localhost:8080/",
          "height": 156
        }
      },
      "source": [
        "# Checkpoint callback (to save weights after each epoch)\n",
        "filepath = \"/content/drive/My Drive/KNN/model-bias-{epoch:02d}.hdf5\"\n",
        "checkpoint = ModelCheckpoint(filepath, monitor='loss', verbose=1, save_best_only=False, save_weights_only=True, mode='auto', period=1)\n",
        "\n",
        "# Adam optimizer with 0.001 learning rate\n",
        "final_model.compile(tf.keras.optimizers.Adam(learning_rate=0.001),\n",
        "                    loss=tf.keras.losses.SparseCategoricalCrossentropy(from_logits=False),\n",
        "                    metrics=['accuracy'])\n",
        "\n",
        "# Train for 80 epochs\n",
        "history = final_model.fit(img_train_part, [train_labels[:,i] for i in range(7)], epochs=80,\n",
        "                          validation_data=(img_val_part, [val_labels[:,i] for i in range(7)]), callbacks=[checkpoint])"
      ],
      "execution_count": 0,
      "outputs": [
        {
          "output_type": "stream",
          "text": [
            "Train on 84328 samples, validate on 21082 samples\n",
            "Epoch 1/80\n",
            "84328/84328 [==============================] - 155s 2ms/step - loss: 6.2759 - activation_90_loss: 0.8430 - activation_91_loss: 0.6015 - activation_92_loss: 1.1821 - activation_93_loss: 0.8718 - activation_94_loss: 0.8721 - activation_95_loss: 0.9475 - activation_96_loss: 0.9561 - activation_90_accuracy: 3.7947e-04 - activation_91_accuracy: 0.0037 - activation_92_accuracy: 0.0742 - activation_93_accuracy: 0.0882 - activation_94_accuracy: 0.1083 - activation_95_accuracy: 0.1465 - activation_96_accuracy: 0.1443 - val_loss: 3.9072 - val_activation_90_loss: 0.4669 - val_activation_91_loss: 0.5781 - val_activation_92_loss: 0.8681 - val_activation_93_loss: 0.3423 - val_activation_94_loss: 0.5760 - val_activation_95_loss: 0.5331 - val_activation_96_loss: 0.5428 - val_activation_90_accuracy: 4.7434e-05 - val_activation_91_accuracy: 0.0030 - val_activation_92_accuracy: 0.0562 - val_activation_93_accuracy: 0.0896 - val_activation_94_accuracy: 0.0969 - val_activation_95_accuracy: 0.1049 - val_activation_96_accuracy: 0.1087\n",
            "\n",
            "Epoch 00001: saving model to /content/drive/My Drive/KNN/model-bias-01.hdf5\n",
            "Epoch 2/80\n",
            "37344/84328 [============>.................] - ETA: 1:18 - loss: 0.3023 - activation_90_loss: 0.0237 - activation_91_loss: 0.0320 - activation_92_loss: 0.0539 - activation_93_loss: 0.0263 - activation_94_loss: 0.0508 - activation_95_loss: 0.0736 - activation_96_loss: 0.0420 - activation_90_accuracy: 7.2301e-04 - activation_91_accuracy: 0.0055 - activation_92_accuracy: 0.0699 - activation_93_accuracy: 0.0972 - activation_94_accuracy: 0.1073 - activation_95_accuracy: 0.1143 - activation_96_accuracy: 0.1176"
          ],
          "name": "stdout"
        }
      ]
    },
    {
      "cell_type": "markdown",
      "metadata": {
        "id": "OZKd6DWCxK1I",
        "colab_type": "text"
      },
      "source": [
        "Evaluate the model"
      ]
    },
    {
      "cell_type": "code",
      "metadata": {
        "id": "l-cQ59ckxM3j",
        "colab_type": "code",
        "colab": {}
      },
      "source": [
        "plt.plot(history.history['accuracy'], label='accuracy')\n",
        "plt.plot(history.history['val_accuracy'], label = 'val_accuracy')\n",
        "plt.xlabel('Epoch')\n",
        "plt.ylabel('Accuracy')\n",
        "plt.ylim([0.5, 1])\n",
        "plt.legend(loc='lower right')\n",
        "\n",
        "test_loss, test_acc = model.evaluate(test_images,  test_labels, verbose=2)\n",
        "\n",
        "print(test_acc)"
      ],
      "execution_count": 0,
      "outputs": []
    }
  ]
}