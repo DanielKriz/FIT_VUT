{
  "nbformat": 4,
  "nbformat_minor": 0,
  "metadata": {
    "colab": {
      "name": "KNN_varlen_data_augmentation.ipynb",
      "provenance": [],
      "collapsed_sections": [],
      "machine_shape": "hm"
    },
    "kernelspec": {
      "name": "python3",
      "display_name": "Python 3"
    },
    "accelerator": "GPU"
  },
  "cells": [
    {
      "cell_type": "markdown",
      "metadata": {
        "id": "_TwylZeyBrrA",
        "colab_type": "text"
      },
      "source": [
        "\n",
        "IMPORTS:"
      ]
    },
    {
      "cell_type": "code",
      "metadata": {
        "id": "FkIURPrSABP-",
        "colab_type": "code",
        "colab": {
          "base_uri": "https://localhost:8080/",
          "height": 34
        },
        "outputId": "80a53c2b-c116-41bb-aa61-6c238a0e49f9"
      },
      "source": [
        "import os\n",
        "import sys\n",
        "import cv2\n",
        "import csv\n",
        "import string\n",
        "\n",
        "import numpy as np\n",
        "import matplotlib.pyplot as plt\n",
        "import tensorflow as tf\n",
        "\n",
        "from random import randrange\n",
        "from tensorflow.keras import models\n",
        "from keras.models import Model\n",
        "from keras.callbacks import ModelCheckpoint\n",
        "from keras.preprocessing.image import ImageDataGenerator\n",
        "\n",
        "from google.colab import drive\n",
        "drive.mount('/content/drive', force_remount=True)"
      ],
      "execution_count": 14,
      "outputs": [
        {
          "output_type": "stream",
          "text": [
            "Mounted at /content/drive\n"
          ],
          "name": "stdout"
        }
      ]
    },
    {
      "cell_type": "markdown",
      "metadata": {
        "id": "hy0_g-_J6wbW",
        "colab_type": "text"
      },
      "source": [
        "Download data from drive to speed things up"
      ]
    },
    {
      "cell_type": "code",
      "metadata": {
        "id": "iMyxEi1H6y2i",
        "colab_type": "code",
        "colab": {}
      },
      "source": [
        "zip_path = '/content/drive/My Drive/KNN/2017-IWT4S-CarsReId_LP-dataset.zip'\n",
        "!cp \"{zip_path}\" .\n",
        "!unzip -q -n '2017-IWT4S-CarsReId_LP-dataset.zip'"
      ],
      "execution_count": 0,
      "outputs": []
    },
    {
      "cell_type": "markdown",
      "metadata": {
        "id": "5Ibqka0jQ4zg",
        "colab_type": "text"
      },
      "source": [
        "Parse csv and load train/test data"
      ]
    },
    {
      "cell_type": "code",
      "metadata": {
        "id": "0FnBlVqBRFA0",
        "colab_type": "code",
        "colab": {
          "base_uri": "https://localhost:8080/",
          "height": 153
        },
        "outputId": "7527c83e-120f-4a67-f807-c183b0d7943e"
      },
      "source": [
        "train_images = []\n",
        "train_labels = []\n",
        "test_images  = []\n",
        "test_labels  = []\n",
        "\n",
        "def add_blank_chars(label):\n",
        "  empty_cnt = 8 - len(label)\n",
        "  empty_c = ''\n",
        "  for i in range(0, empty_cnt):\n",
        "      empty_c += '#'\n",
        "  second_part_beg = len(label) - 4\n",
        "  new_end = empty_c + label[second_part_beg:]\n",
        "  first_part_delim = 8 - len(new_end)\n",
        "  return label[:first_part_delim] + new_end\n",
        "\n",
        "with open('trainVal.csv', 'r') as csv_file:\n",
        "    csv_reader = csv.reader(csv_file, delimiter=',')\n",
        "    line_count = 0\n",
        "    for row in csv_reader:\n",
        "        if line_count == 0:\n",
        "            # Skip header row\n",
        "            line_count += 1\n",
        "        else:\n",
        "            label = ''\n",
        "            if (len(row[2]) != 8):\n",
        "                label = add_blank_chars(row[2])\n",
        "            else:\n",
        "                label = row[2]\n",
        "            if int(row[3]) == 0:\n",
        "                img = cv2.imread(row[1])\n",
        "                if img is None:\n",
        "                    continue\n",
        "                img = cv2.cvtColor(img, cv2.COLOR_RGB2BGR)\n",
        "                res = cv2.resize(img, dsize=(200, 40), interpolation=cv2.INTER_CUBIC)\n",
        "                normalizedImg = np.zeros((200, 40))\n",
        "                normalizedImg = cv2.normalize(res,  normalizedImg, 0, 255, cv2.NORM_MINMAX)\n",
        "                test_labels.append([label])\n",
        "                test_images.append(normalizedImg)\n",
        "            else:\n",
        "                img = cv2.imread(row[1])\n",
        "                if img is None:\n",
        "                    continue\n",
        "                img = cv2.cvtColor(img, cv2.COLOR_RGB2BGR)\n",
        "                res = cv2.resize(img, dsize=(200, 40), interpolation=cv2.INTER_CUBIC)\n",
        "                normalizedImg = np.zeros((200, 40))\n",
        "                normalizedImg = cv2.normalize(res,  normalizedImg, 0, 255, cv2.NORM_MINMAX)\n",
        "                train_labels.append([label])\n",
        "                train_images.append(normalizedImg)\n",
        "\n",
        "train_images = np.asarray(train_images)\n",
        "train_labels = np.asarray(train_labels)\n",
        "\n",
        "img_train_part = train_images[:int(len(train_images) * .8)]\n",
        "labels_train_part = train_labels[:int(len(train_labels) * .8)]\n",
        "img_val_part = train_images[int(len(train_images) * .8):]\n",
        "labels_val_part = train_labels[int(len(train_labels) * .8):]\n",
        "\n",
        "# Debug\n",
        "print(train_images.shape)\n",
        "print(train_labels.shape)\n",
        "print('')\n",
        "print(img_train_part.shape)\n",
        "print(labels_train_part.shape)\n",
        "print('')\n",
        "print(img_val_part.shape)\n",
        "print(labels_val_part.shape)"
      ],
      "execution_count": 16,
      "outputs": [
        {
          "output_type": "stream",
          "text": [
            "(105924, 40, 200, 3)\n",
            "(105924, 1)\n",
            "\n",
            "(84739, 40, 200, 3)\n",
            "(84739, 1)\n",
            "\n",
            "(21185, 40, 200, 3)\n",
            "(21185, 1)\n"
          ],
          "name": "stdout"
        }
      ]
    },
    {
      "cell_type": "markdown",
      "metadata": {
        "id": "GAUeU3L0HySL",
        "colab_type": "text"
      },
      "source": [
        "Convert to 'loss function friendly' format"
      ]
    },
    {
      "cell_type": "code",
      "metadata": {
        "id": "vdsKDwraH0br",
        "colab_type": "code",
        "colab": {
          "base_uri": "https://localhost:8080/",
          "height": 85
        },
        "outputId": "c513c42a-bee2-4e39-f292-b09c1e84c886"
      },
      "source": [
        "# Create dict to encode digits to numbers\n",
        "y_map = {}\n",
        "for i,d in enumerate(string.digits+string.ascii_uppercase + '#'):\n",
        "    y_map[d] = i\n",
        "\n",
        "# Utility function for split string in char and encode them\n",
        "def split_encode(x):\n",
        "    x = list(x[0])\n",
        "    x = [y_map[d] for d in x]\n",
        "    return x\n",
        "\n",
        "# Transform target\n",
        "train_labels = np.apply_along_axis(split_encode, 1, labels_train_part)\n",
        "val_labels = np.apply_along_axis(split_encode, 1, labels_val_part)\n",
        "\n",
        "# Debug\n",
        "print(img_train_part.shape)\n",
        "print(train_labels.shape)\n",
        "print(img_val_part.shape)\n",
        "print(val_labels.shape)"
      ],
      "execution_count": 17,
      "outputs": [
        {
          "output_type": "stream",
          "text": [
            "(84739, 40, 200, 3)\n",
            "(84739, 8)\n",
            "(21185, 40, 200, 3)\n",
            "(21185, 8)\n"
          ],
          "name": "stdout"
        }
      ]
    },
    {
      "cell_type": "markdown",
      "metadata": {
        "id": "2AcCdUk2saUI",
        "colab_type": "text"
      },
      "source": [
        "Class names A-Z, 0-9"
      ]
    },
    {
      "cell_type": "markdown",
      "metadata": {
        "id": "sjKUDJckeS_q",
        "colab_type": "text"
      },
      "source": [
        "Check few images"
      ]
    },
    {
      "cell_type": "code",
      "metadata": {
        "id": "MuPrScWteVeC",
        "colab_type": "code",
        "colab": {
          "base_uri": "https://localhost:8080/",
          "height": 211
        },
        "outputId": "9e3a7fe4-cb52-4614-a2ab-1dd37ab16896"
      },
      "source": [
        "plt.figure(figsize=(10,10))\n",
        "for i in range(10):\n",
        "    plt.subplot(5,5,i+1)\n",
        "    plt.xticks([])\n",
        "    plt.yticks([])\n",
        "    plt.grid(False)\n",
        "    plt.imshow(img_train_part[i], cmap=plt.cm.binary)\n",
        "    plt.xlabel(train_labels[i])\n",
        "plt.show()"
      ],
      "execution_count": 18,
      "outputs": [
        {
          "output_type": "stream",
          "text": [
            "/usr/local/lib/python3.6/dist-packages/matplotlib/text.py:1165: FutureWarning: elementwise comparison failed; returning scalar instead, but in the future will perform elementwise comparison\n",
            "  if s != self._text:\n"
          ],
          "name": "stderr"
        },
        {
          "output_type": "display_data",
          "data": {
            "image/png": "[encoded data removed]",
            "text/plain": [
              "<Figure size 720x720 with 10 Axes>"
            ]
          },
          "metadata": {
            "tags": []
          }
        }
      ]
    },
    {
      "cell_type": "markdown",
      "metadata": {
        "id": "ZbHx4V7Ush5L",
        "colab_type": "text"
      },
      "source": [
        "Create model"
      ]
    },
    {
      "cell_type": "code",
      "metadata": {
        "id": "tC6NPbAAsjbA",
        "colab_type": "code",
        "colab": {
          "base_uri": "https://localhost:8080/",
          "height": 1000
        },
        "outputId": "b09cb781-7a37-45eb-c3c8-f575571a7864"
      },
      "source": [
        "# 32,64,128 - filters count\n",
        "# (x, x) is size of convolutional kernel\n",
        "# relu is activation function\n",
        "# batch normalization after each convolutional layer\n",
        "\n",
        "from keras.layers import *\n",
        "\n",
        "inp_dim = (40, 200, 3)\n",
        "x_inp = Input(shape=inp_dim)\n",
        "\n",
        "# First part\n",
        "x = Conv2D(32, (3, 3), use_bias=False, padding='same')(x_inp)\n",
        "x = BatchNormalization()(x)\n",
        "x = Activation(\"relu\")(x)\n",
        "x = Conv2D(32, (3, 3), use_bias=False, padding='same')(x)\n",
        "x = BatchNormalization()(x)\n",
        "x = Activation(\"relu\")(x)\n",
        "x = Conv2D(32, (3, 3), use_bias=False, padding='same')(x)\n",
        "x = BatchNormalization()(x)\n",
        "x = Activation(\"relu\")(x)\n",
        "x = Conv2D(32, (3, 3), use_bias=False, padding='same')(x)\n",
        "x = BatchNormalization()(x)\n",
        "x = Activation(\"relu\")(x)\n",
        "x = MaxPooling2D((2, 2))(x)\n",
        "x = Dropout(0.3)(x)\n",
        "\n",
        "# Second part\n",
        "x = Conv2D(64, (3, 3), use_bias=False, padding='same')(x)\n",
        "x = BatchNormalization()(x)\n",
        "x = Activation(\"relu\")(x)\n",
        "x = Conv2D(64, (3, 3), use_bias=False, padding='same')(x)\n",
        "x = BatchNormalization()(x)\n",
        "x = Activation(\"relu\")(x)\n",
        "x = Conv2D(64, (3, 3), use_bias=False, padding='same')(x)\n",
        "x = BatchNormalization()(x)\n",
        "x = Activation(\"relu\")(x)\n",
        "x = Conv2D(64, (3, 3), use_bias=False, padding='same')(x)\n",
        "x = BatchNormalization()(x)\n",
        "x = Activation(\"relu\")(x)\n",
        "x = MaxPooling2D((2, 2))(x)\n",
        "x = Dropout(0.3)(x)\n",
        "\n",
        "# Third part\n",
        "x = Conv2D(128, (3, 3), use_bias=False, padding='same')(x)\n",
        "x = BatchNormalization()(x)\n",
        "x = Activation(\"relu\")(x)\n",
        "x = Conv2D(128, (3, 3), use_bias=False, padding='same')(x)\n",
        "x = BatchNormalization()(x)\n",
        "x = Activation(\"relu\")(x)\n",
        "x = Conv2D(128, (3, 3), use_bias=False, padding='same')(x)\n",
        "x = BatchNormalization()(x)\n",
        "x = Activation(\"relu\")(x)\n",
        "x = Conv2D(128, (3, 3), use_bias=False, padding='same')(x)\n",
        "x = BatchNormalization()(x)\n",
        "x = Activation(\"relu\")(x)\n",
        "x = MaxPooling2D((2, 2))(x)\n",
        "x = Dropout(0.3)(x)\n",
        "\n",
        "x_out = Flatten()(x)\n",
        "model = Model(x_inp, x_out)\n",
        "\n",
        "branches = []\n",
        "\n",
        "for i in range(8):\n",
        "    x = Dense(128)(x_out)\n",
        "    x = Dense(37)(x)\n",
        "    x = Activation(\"linear\")(x)\n",
        "    branches.append(x)\n",
        "\n",
        "final_model = Model(inputs = x_inp, outputs = branches)\n",
        "\n",
        "# Display model architecture\n",
        "final_model.summary()\n",
        "\n",
        "# save model\n",
        "model_json = final_model.to_json()\n",
        "with open(\"/content/drive/My Drive/KNN/comb.json\", \"w\") as json_file:\n",
        "    json_file.write(model_json)"
      ],
      "execution_count": 19,
      "outputs": [
        {
          "output_type": "stream",
          "text": [
            "Model: \"model_6\"\n",
            "__________________________________________________________________________________________________\n",
            "Layer (type)                    Output Shape         Param #     Connected to                     \n",
            "==================================================================================================\n",
            "input_3 (InputLayer)            (None, 40, 200, 3)   0                                            \n",
            "__________________________________________________________________________________________________\n",
            "conv2d_22 (Conv2D)              (None, 40, 200, 32)  864         input_3[0][0]                    \n",
            "__________________________________________________________________________________________________\n",
            "batch_normalization_22 (BatchNo (None, 40, 200, 32)  128         conv2d_22[0][0]                  \n",
            "__________________________________________________________________________________________________\n",
            "activation_38 (Activation)      (None, 40, 200, 32)  0           batch_normalization_22[0][0]     \n",
            "__________________________________________________________________________________________________\n",
            "conv2d_23 (Conv2D)              (None, 40, 200, 32)  9216        activation_38[0][0]              \n",
            "__________________________________________________________________________________________________\n",
            "batch_normalization_23 (BatchNo (None, 40, 200, 32)  128         conv2d_23[0][0]                  \n",
            "__________________________________________________________________________________________________\n",
            "activation_39 (Activation)      (None, 40, 200, 32)  0           batch_normalization_23[0][0]     \n",
            "__________________________________________________________________________________________________\n",
            "conv2d_24 (Conv2D)              (None, 40, 200, 32)  9216        activation_39[0][0]              \n",
            "__________________________________________________________________________________________________\n",
            "batch_normalization_24 (BatchNo (None, 40, 200, 32)  128         conv2d_24[0][0]                  \n",
            "__________________________________________________________________________________________________\n",
            "activation_40 (Activation)      (None, 40, 200, 32)  0           batch_normalization_24[0][0]     \n",
            "__________________________________________________________________________________________________\n",
            "conv2d_25 (Conv2D)              (None, 40, 200, 32)  9216        activation_40[0][0]              \n",
            "__________________________________________________________________________________________________\n",
            "batch_normalization_25 (BatchNo (None, 40, 200, 32)  128         conv2d_25[0][0]                  \n",
            "__________________________________________________________________________________________________\n",
            "activation_41 (Activation)      (None, 40, 200, 32)  0           batch_normalization_25[0][0]     \n",
            "__________________________________________________________________________________________________\n",
            "max_pooling2d_7 (MaxPooling2D)  (None, 20, 100, 32)  0           activation_41[0][0]              \n",
            "__________________________________________________________________________________________________\n",
            "dropout_4 (Dropout)             (None, 20, 100, 32)  0           max_pooling2d_7[0][0]            \n",
            "__________________________________________________________________________________________________\n",
            "conv2d_26 (Conv2D)              (None, 20, 100, 64)  18432       dropout_4[0][0]                  \n",
            "__________________________________________________________________________________________________\n",
            "batch_normalization_26 (BatchNo (None, 20, 100, 64)  256         conv2d_26[0][0]                  \n",
            "__________________________________________________________________________________________________\n",
            "activation_42 (Activation)      (None, 20, 100, 64)  0           batch_normalization_26[0][0]     \n",
            "__________________________________________________________________________________________________\n",
            "conv2d_27 (Conv2D)              (None, 20, 100, 64)  36864       activation_42[0][0]              \n",
            "__________________________________________________________________________________________________\n",
            "batch_normalization_27 (BatchNo (None, 20, 100, 64)  256         conv2d_27[0][0]                  \n",
            "__________________________________________________________________________________________________\n",
            "activation_43 (Activation)      (None, 20, 100, 64)  0           batch_normalization_27[0][0]     \n",
            "__________________________________________________________________________________________________\n",
            "conv2d_28 (Conv2D)              (None, 20, 100, 64)  36864       activation_43[0][0]              \n",
            "__________________________________________________________________________________________________\n",
            "batch_normalization_28 (BatchNo (None, 20, 100, 64)  256         conv2d_28[0][0]                  \n",
            "__________________________________________________________________________________________________\n",
            "activation_44 (Activation)      (None, 20, 100, 64)  0           batch_normalization_28[0][0]     \n",
            "__________________________________________________________________________________________________\n",
            "conv2d_29 (Conv2D)              (None, 20, 100, 64)  36864       activation_44[0][0]              \n",
            "__________________________________________________________________________________________________\n",
            "batch_normalization_29 (BatchNo (None, 20, 100, 64)  256         conv2d_29[0][0]                  \n",
            "__________________________________________________________________________________________________\n",
            "activation_45 (Activation)      (None, 20, 100, 64)  0           batch_normalization_29[0][0]     \n",
            "__________________________________________________________________________________________________\n",
            "max_pooling2d_8 (MaxPooling2D)  (None, 10, 50, 64)   0           activation_45[0][0]              \n",
            "__________________________________________________________________________________________________\n",
            "dropout_5 (Dropout)             (None, 10, 50, 64)   0           max_pooling2d_8[0][0]            \n",
            "__________________________________________________________________________________________________\n",
            "conv2d_30 (Conv2D)              (None, 10, 50, 128)  73728       dropout_5[0][0]                  \n",
            "__________________________________________________________________________________________________\n",
            "batch_normalization_30 (BatchNo (None, 10, 50, 128)  512         conv2d_30[0][0]                  \n",
            "__________________________________________________________________________________________________\n",
            "activation_46 (Activation)      (None, 10, 50, 128)  0           batch_normalization_30[0][0]     \n",
            "__________________________________________________________________________________________________\n",
            "conv2d_31 (Conv2D)              (None, 10, 50, 128)  147456      activation_46[0][0]              \n",
            "__________________________________________________________________________________________________\n",
            "batch_normalization_31 (BatchNo (None, 10, 50, 128)  512         conv2d_31[0][0]                  \n",
            "__________________________________________________________________________________________________\n",
            "activation_47 (Activation)      (None, 10, 50, 128)  0           batch_normalization_31[0][0]     \n",
            "__________________________________________________________________________________________________\n",
            "conv2d_32 (Conv2D)              (None, 10, 50, 128)  147456      activation_47[0][0]              \n",
            "__________________________________________________________________________________________________\n",
            "batch_normalization_32 (BatchNo (None, 10, 50, 128)  512         conv2d_32[0][0]                  \n",
            "__________________________________________________________________________________________________\n",
            "activation_48 (Activation)      (None, 10, 50, 128)  0           batch_normalization_32[0][0]     \n",
            "__________________________________________________________________________________________________\n",
            "conv2d_33 (Conv2D)              (None, 10, 50, 128)  147456      activation_48[0][0]              \n",
            "__________________________________________________________________________________________________\n",
            "batch_normalization_33 (BatchNo (None, 10, 50, 128)  512         conv2d_33[0][0]                  \n",
            "__________________________________________________________________________________________________\n",
            "activation_49 (Activation)      (None, 10, 50, 128)  0           batch_normalization_33[0][0]     \n",
            "__________________________________________________________________________________________________\n",
            "max_pooling2d_9 (MaxPooling2D)  (None, 5, 25, 128)   0           activation_49[0][0]              \n",
            "__________________________________________________________________________________________________\n",
            "dropout_6 (Dropout)             (None, 5, 25, 128)   0           max_pooling2d_9[0][0]            \n",
            "__________________________________________________________________________________________________\n",
            "flatten_3 (Flatten)             (None, 16000)        0           dropout_6[0][0]                  \n",
            "__________________________________________________________________________________________________\n",
            "dense_33 (Dense)                (None, 128)          2048128     flatten_3[0][0]                  \n",
            "__________________________________________________________________________________________________\n",
            "dense_35 (Dense)                (None, 128)          2048128     flatten_3[0][0]                  \n",
            "__________________________________________________________________________________________________\n",
            "dense_37 (Dense)                (None, 128)          2048128     flatten_3[0][0]                  \n",
            "__________________________________________________________________________________________________\n",
            "dense_39 (Dense)                (None, 128)          2048128     flatten_3[0][0]                  \n",
            "__________________________________________________________________________________________________\n",
            "dense_41 (Dense)                (None, 128)          2048128     flatten_3[0][0]                  \n",
            "__________________________________________________________________________________________________\n",
            "dense_43 (Dense)                (None, 128)          2048128     flatten_3[0][0]                  \n",
            "__________________________________________________________________________________________________\n",
            "dense_45 (Dense)                (None, 128)          2048128     flatten_3[0][0]                  \n",
            "__________________________________________________________________________________________________\n",
            "dense_47 (Dense)                (None, 128)          2048128     flatten_3[0][0]                  \n",
            "__________________________________________________________________________________________________\n",
            "dense_34 (Dense)                (None, 37)           4773        dense_33[0][0]                   \n",
            "__________________________________________________________________________________________________\n",
            "dense_36 (Dense)                (None, 37)           4773        dense_35[0][0]                   \n",
            "__________________________________________________________________________________________________\n",
            "dense_38 (Dense)                (None, 37)           4773        dense_37[0][0]                   \n",
            "__________________________________________________________________________________________________\n",
            "dense_40 (Dense)                (None, 37)           4773        dense_39[0][0]                   \n",
            "__________________________________________________________________________________________________\n",
            "dense_42 (Dense)                (None, 37)           4773        dense_41[0][0]                   \n",
            "__________________________________________________________________________________________________\n",
            "dense_44 (Dense)                (None, 37)           4773        dense_43[0][0]                   \n",
            "__________________________________________________________________________________________________\n",
            "dense_46 (Dense)                (None, 37)           4773        dense_45[0][0]                   \n",
            "__________________________________________________________________________________________________\n",
            "dense_48 (Dense)                (None, 37)           4773        dense_47[0][0]                   \n",
            "__________________________________________________________________________________________________\n",
            "activation_50 (Activation)      (None, 37)           0           dense_34[0][0]                   \n",
            "__________________________________________________________________________________________________\n",
            "activation_51 (Activation)      (None, 37)           0           dense_36[0][0]                   \n",
            "__________________________________________________________________________________________________\n",
            "activation_52 (Activation)      (None, 37)           0           dense_38[0][0]                   \n",
            "__________________________________________________________________________________________________\n",
            "activation_53 (Activation)      (None, 37)           0           dense_40[0][0]                   \n",
            "__________________________________________________________________________________________________\n",
            "activation_54 (Activation)      (None, 37)           0           dense_42[0][0]                   \n",
            "__________________________________________________________________________________________________\n",
            "activation_55 (Activation)      (None, 37)           0           dense_44[0][0]                   \n",
            "__________________________________________________________________________________________________\n",
            "activation_56 (Activation)      (None, 37)           0           dense_46[0][0]                   \n",
            "__________________________________________________________________________________________________\n",
            "activation_57 (Activation)      (None, 37)           0           dense_48[0][0]                   \n",
            "==================================================================================================\n",
            "Total params: 17,100,424\n",
            "Trainable params: 17,098,632\n",
            "Non-trainable params: 1,792\n",
            "__________________________________________________________________________________________________\n"
          ],
          "name": "stdout"
        }
      ]
    },
    {
      "cell_type": "code",
      "metadata": {
        "id": "IGSYVF4LPz8Z",
        "colab_type": "code",
        "colab": {}
      },
      "source": [
        "from tensorflow.python.keras.utils.data_utils import Sequence\n",
        "\n",
        "class ReIdSequence(Sequence):\n",
        "    def __init__(self, x_set, y_set, batch_size, augmentations):\n",
        "        self.x, self.ys = x_set, y_set\n",
        "        self.batch_size = batch_size\n",
        "        self.augment = augmentations\n",
        "\n",
        "    def __len__(self):\n",
        "        return int(np.ceil(len(self.x) / float(self.batch_size)))\n",
        "\n",
        "    def __getitem__(self, idx):\n",
        "        batch_x = self.x[idx * self.batch_size:(idx + 1) * self.batch_size]\n",
        "        batch_y = [y[idx * self.batch_size:(idx + 1) * self.batch_size] for y in self.ys]\n",
        "\n",
        "        return np.stack([\n",
        "            self.augment(image=x)[\"image\"] for x in batch_x\n",
        "        ], axis=0), batch_y"
      ],
      "execution_count": 0,
      "outputs": []
    },
    {
      "cell_type": "code",
      "metadata": {
        "id": "4OgYmcOsQiO8",
        "colab_type": "code",
        "colab": {}
      },
      "source": [
        "from albumentations import (\n",
        "    Compose, HorizontalFlip, CLAHE, HueSaturationValue,\n",
        "    RandomBrightness, RandomContrast, RandomGamma,\n",
        "    ToFloat, ShiftScaleRotate\n",
        ")\n",
        "\n",
        "AUGMENTATIONS_TRAIN = Compose([\n",
        "    HorizontalFlip(p=0.5),\n",
        "    RandomContrast(limit=0.2, p=0.5),\n",
        "    RandomGamma(gamma_limit=(80, 120), p=0.5),\n",
        "    RandomBrightness(limit=0.2, p=0.5),\n",
        "    HueSaturationValue(hue_shift_limit=5, sat_shift_limit=20,\n",
        "                       val_shift_limit=10, p=.9),\n",
        "    ShiftScaleRotate(\n",
        "        shift_limit=0.0625, scale_limit=0.1, \n",
        "        rotate_limit=15, border_mode=cv2.BORDER_REFLECT_101, p=0.8), \n",
        "])\n",
        "\n",
        "AUGMENTATIONS_TEST = Compose([\n",
        "    HorizontalFlip(p=0.5),\n",
        "    RandomContrast(limit=0.2, p=0.5),\n",
        "    RandomGamma(gamma_limit=(80, 120), p=0.5),\n",
        "    RandomBrightness(limit=0.2, p=0.5),\n",
        "    HueSaturationValue(hue_shift_limit=5, sat_shift_limit=20,\n",
        "                       val_shift_limit=10, p=.9),\n",
        "    ShiftScaleRotate(\n",
        "        shift_limit=0.0625, scale_limit=0.1, \n",
        "        rotate_limit=15, border_mode=cv2.BORDER_REFLECT_101, p=0.8), \n",
        "])"
      ],
      "execution_count": 0,
      "outputs": []
    },
    {
      "cell_type": "markdown",
      "metadata": {
        "id": "Pil7CahExHSI",
        "colab_type": "text"
      },
      "source": [
        "Compile and train the model"
      ]
    },
    {
      "cell_type": "code",
      "metadata": {
        "id": "PqbR6tNXQ7ey",
        "colab_type": "code",
        "colab": {
          "base_uri": "https://localhost:8080/",
          "height": 71
        },
        "outputId": "6b59afd7-8e87-4227-d358-a735083019e3"
      },
      "source": [
        "import functools\n",
        "\n",
        "train_gen = ReIdSequence(\n",
        "    img_train_part,\n",
        "    [train_labels[:,i] for i in range(8)],\n",
        "    32, \n",
        "    augmentations=AUGMENTATIONS_TRAIN\n",
        ")\n",
        "\n",
        "# Validation data\n",
        "valid_gen = ReIdSequence(\n",
        "    img_val_part,\n",
        "    [val_labels[:,i] for i in range(8)],\n",
        "    32,\n",
        "    augmentations=AUGMENTATIONS_TEST\n",
        ")\n",
        "\n",
        "# Checkpoint callback (to save weights after each epoch)\n",
        "filepath = \"/content/drive/My Drive/KNN/aug/model-comb-{epoch:02d}.hdf5\"\n",
        "checkpoint = ModelCheckpoint(filepath, monitor='loss', verbose=1, save_best_only=False, save_weights_only=True, mode='auto', period=1)\n",
        "\n",
        "class CTCLoss(tf.keras.losses.Loss):\n",
        "    def __init__(self, logits_time_major=False, blank_index=-1, \n",
        "                 reduction=tf.keras.losses.Reduction.AUTO, name='ctc_loss'):\n",
        "        super().__init__(reduction=reduction, name=name)\n",
        "        self.logits_time_major = logits_time_major\n",
        "        self.blank_index = blank_index\n",
        "\n",
        "    def call(self, y_true, y_pred):\n",
        "        y_true = tf.cast(y_true, tf.int32)\n",
        "        logit_length = tf.fill([tf.shape(y_pred)[0]], tf.shape(y_pred)[1])\n",
        "        loss = tf.nn.ctc_loss(\n",
        "            labels=y_true,\n",
        "            logits=y_pred,\n",
        "            label_length=None,\n",
        "            logit_length=logit_length,\n",
        "            logits_time_major=self.logits_time_major,\n",
        "            blank_index=self.blank_index)\n",
        "        return tf.reduce_mean(loss)\n",
        "\n",
        "def train_step(self, data):\n",
        "    data = data_adapter.expand_1d(data)\n",
        "    x, y, sample_weight = data_adapter.unpack_x_y_sample_weight(data)\n",
        "\n",
        "    with tf.GradientTape() as tape:\n",
        "        logits = self(x, training=True)\n",
        "        logit_length = tf.fill([tf.shape(logits)[0]], tf.shape(logits)[1])\n",
        "        loss = tf.nn.ctc_loss(\n",
        "            labels=y,\n",
        "            logits=logits,\n",
        "            label_length=None,\n",
        "            logit_length=logit_length,\n",
        "            logits_time_major=False,\n",
        "            blank_index=-1)\n",
        "        loss = tf.reduce_mean(loss)\n",
        "    trainable_variables = self.trainable_variables\n",
        "    grads = tape.gradient(loss, trainable_variables)\n",
        "    self.optimizer.apply_gradients(zip(grads, trainable_variables))\n",
        "    return {'loss': loss}\n",
        "\n",
        "# Adam optimizer with 0.001 learning rate\n",
        "final_model.compile(tf.keras.optimizers.Adam(learning_rate=0.001),\n",
        "                    loss=tf.keras.losses.SparseCategoricalCrossentropy(from_logits=True),\n",
        "                    metrics=['accuracy'])\n",
        "\n",
        "final_model.train_step = functools.partial(train_step, final_model)\n",
        "\n",
        "# Training\n",
        "final_model.fit_generator(\n",
        "    train_gen,\n",
        "    epochs=80,\n",
        "    validation_data=valid_gen,\n",
        "    workers=2, use_multiprocessing=False,\n",
        "    callbacks=[checkpoint])"
      ],
      "execution_count": 0,
      "outputs": [
        {
          "output_type": "stream",
          "text": [
            "Epoch 1/80\n",
            "  91/2649 [>.............................] - ETA: 10:48 - loss: 88.1612 - activation_50_loss: 12.5320 - activation_51_loss: 10.1589 - activation_52_loss: 13.1136 - activation_53_loss: 0.0877 - activation_54_loss: 12.8934 - activation_55_loss: 13.1482 - activation_56_loss: 11.7624 - activation_57_loss: 14.4650 - activation_50_accuracy: 0.0000e+00 - activation_51_accuracy: 0.0000e+00 - activation_52_accuracy: 0.0161 - activation_53_accuracy: 3.4341e-04 - activation_54_accuracy: 0.1621 - activation_55_accuracy: 0.1192 - activation_56_accuracy: 0.0604 - activation_57_accuracy: 0.0735"
          ],
          "name": "stdout"
        }
      ]
    }
  ]
}